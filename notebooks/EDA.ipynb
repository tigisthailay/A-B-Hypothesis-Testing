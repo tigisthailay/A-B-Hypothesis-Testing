{
  "nbformat": 4,
  "nbformat_minor": 0,
  "metadata": {
    "colab": {
      "name": "EDA.ipynb",
      "provenance": [],
      "authorship_tag": "ABX9TyNlfv2lSBFaNCf1K/9rYMNZ",
      "include_colab_link": true
    },
    "kernelspec": {
      "name": "python3",
      "display_name": "Python 3"
    },
    "language_info": {
      "name": "python"
    }
  },
  "cells": [
    {
      "cell_type": "markdown",
      "metadata": {
        "id": "view-in-github",
        "colab_type": "text"
      },
      "source": [
        "<a href=\"https://colab.research.google.com/github/Azariagmt/Ad-campaign-performance/blob/main/notebooks/EDA.ipynb\" target=\"_parent\"><img src=\"https://colab.research.google.com/assets/colab-badge.svg\" alt=\"Open In Colab\"/></a>"
      ]
    },
    {
      "cell_type": "code",
      "metadata": {
        "colab": {
          "base_uri": "https://localhost:8080/"
        },
        "id": "RNqFn1TzFZOu",
        "outputId": "125a320e-c740-4692-a1f9-b40883c0c5a8"
      },
      "source": [
        "!gdown \"https://drive.google.com/uc?id=1iVNXgceF7uk3MaPwYcysQpE-Jj5WX5DV\""
      ],
      "execution_count": 1,
      "outputs": [
        {
          "output_type": "stream",
          "text": [
            "Downloading...\n",
            "From: https://drive.google.com/uc?id=1iVNXgceF7uk3MaPwYcysQpE-Jj5WX5DV\n",
            "To: /content/AdSmartABdata.csv\n",
            "\r  0% 0.00/784k [00:00<?, ?B/s]\r100% 784k/784k [00:00<00:00, 52.1MB/s]\n"
          ],
          "name": "stdout"
        }
      ]
    },
    {
      "cell_type": "markdown",
      "metadata": {
        "id": "DC8dIrSPkOCU"
      },
      "source": [
        "# Imports"
      ]
    },
    {
      "cell_type": "code",
      "metadata": {
        "id": "R-rf3UXzCo2j"
      },
      "source": [
        "import pandas as pd"
      ],
      "execution_count": 2,
      "outputs": []
    },
    {
      "cell_type": "code",
      "metadata": {
        "colab": {
          "base_uri": "https://localhost:8080/",
          "height": 235
        },
        "id": "9v11FnwckM3p",
        "outputId": "278ad524-75bb-4dd3-ef7e-75e56ba418dd"
      },
      "source": [
        "df = pd.read_csv('/content/AdSmartABdata.csv', index_col=\"auction_id\")\n",
        "df.head()"
      ],
      "execution_count": 3,
      "outputs": [
        {
          "output_type": "execute_result",
          "data": {
            "text/html": [
              "<div>\n",
              "<style scoped>\n",
              "    .dataframe tbody tr th:only-of-type {\n",
              "        vertical-align: middle;\n",
              "    }\n",
              "\n",
              "    .dataframe tbody tr th {\n",
              "        vertical-align: top;\n",
              "    }\n",
              "\n",
              "    .dataframe thead th {\n",
              "        text-align: right;\n",
              "    }\n",
              "</style>\n",
              "<table border=\"1\" class=\"dataframe\">\n",
              "  <thead>\n",
              "    <tr style=\"text-align: right;\">\n",
              "      <th></th>\n",
              "      <th>experiment</th>\n",
              "      <th>date</th>\n",
              "      <th>hour</th>\n",
              "      <th>device_make</th>\n",
              "      <th>platform_os</th>\n",
              "      <th>browser</th>\n",
              "      <th>yes</th>\n",
              "      <th>no</th>\n",
              "    </tr>\n",
              "    <tr>\n",
              "      <th>auction_id</th>\n",
              "      <th></th>\n",
              "      <th></th>\n",
              "      <th></th>\n",
              "      <th></th>\n",
              "      <th></th>\n",
              "      <th></th>\n",
              "      <th></th>\n",
              "      <th></th>\n",
              "    </tr>\n",
              "  </thead>\n",
              "  <tbody>\n",
              "    <tr>\n",
              "      <th>0008ef63-77a7-448b-bd1e-075f42c55e39</th>\n",
              "      <td>exposed</td>\n",
              "      <td>2020-07-10</td>\n",
              "      <td>8</td>\n",
              "      <td>Generic Smartphone</td>\n",
              "      <td>6</td>\n",
              "      <td>Chrome Mobile</td>\n",
              "      <td>0</td>\n",
              "      <td>0</td>\n",
              "    </tr>\n",
              "    <tr>\n",
              "      <th>000eabc5-17ce-4137-8efe-44734d914446</th>\n",
              "      <td>exposed</td>\n",
              "      <td>2020-07-07</td>\n",
              "      <td>10</td>\n",
              "      <td>Generic Smartphone</td>\n",
              "      <td>6</td>\n",
              "      <td>Chrome Mobile</td>\n",
              "      <td>0</td>\n",
              "      <td>0</td>\n",
              "    </tr>\n",
              "    <tr>\n",
              "      <th>0016d14a-ae18-4a02-a204-6ba53b52f2ed</th>\n",
              "      <td>exposed</td>\n",
              "      <td>2020-07-05</td>\n",
              "      <td>2</td>\n",
              "      <td>E5823</td>\n",
              "      <td>6</td>\n",
              "      <td>Chrome Mobile WebView</td>\n",
              "      <td>0</td>\n",
              "      <td>1</td>\n",
              "    </tr>\n",
              "    <tr>\n",
              "      <th>00187412-2932-4542-a8ef-3633901c98d9</th>\n",
              "      <td>control</td>\n",
              "      <td>2020-07-03</td>\n",
              "      <td>15</td>\n",
              "      <td>Samsung SM-A705FN</td>\n",
              "      <td>6</td>\n",
              "      <td>Facebook</td>\n",
              "      <td>0</td>\n",
              "      <td>0</td>\n",
              "    </tr>\n",
              "    <tr>\n",
              "      <th>001a7785-d3fe-4e11-a344-c8735acacc2c</th>\n",
              "      <td>control</td>\n",
              "      <td>2020-07-03</td>\n",
              "      <td>15</td>\n",
              "      <td>Generic Smartphone</td>\n",
              "      <td>6</td>\n",
              "      <td>Chrome Mobile</td>\n",
              "      <td>0</td>\n",
              "      <td>0</td>\n",
              "    </tr>\n",
              "  </tbody>\n",
              "</table>\n",
              "</div>"
            ],
            "text/plain": [
              "                                     experiment        date  ...  yes no\n",
              "auction_id                                                   ...        \n",
              "0008ef63-77a7-448b-bd1e-075f42c55e39    exposed  2020-07-10  ...    0  0\n",
              "000eabc5-17ce-4137-8efe-44734d914446    exposed  2020-07-07  ...    0  0\n",
              "0016d14a-ae18-4a02-a204-6ba53b52f2ed    exposed  2020-07-05  ...    0  1\n",
              "00187412-2932-4542-a8ef-3633901c98d9    control  2020-07-03  ...    0  0\n",
              "001a7785-d3fe-4e11-a344-c8735acacc2c    control  2020-07-03  ...    0  0\n",
              "\n",
              "[5 rows x 8 columns]"
            ]
          },
          "metadata": {
            "tags": []
          },
          "execution_count": 3
        }
      ]
    },
    {
      "cell_type": "code",
      "metadata": {
        "colab": {
          "base_uri": "https://localhost:8080/"
        },
        "id": "8pAO6ky02CaY",
        "outputId": "1489c258-d737-484a-cbb9-917d8a94e0dc"
      },
      "source": [
        "for col in df.columns.tolist():\n",
        "  print(f'{col}\\'s unique values are {df[col].unique()}')"
      ],
      "execution_count": 4,
      "outputs": [
        {
          "output_type": "stream",
          "text": [
            "experiment's unique values are ['exposed' 'control']\n",
            "date's unique values are ['2020-07-10' '2020-07-07' '2020-07-05' '2020-07-03' '2020-07-09'\n",
            " '2020-07-04' '2020-07-06' '2020-07-08']\n",
            "hour's unique values are [ 8 10  2 15  5  0 14 13  6 16  7 20  4 17  1 19 18  3 23 12  9 11 21 22]\n",
            "device_make's unique values are ['Generic Smartphone' 'E5823' 'Samsung SM-A705FN' 'Samsung SM-G960F'\n",
            " 'Samsung SM-G973F' 'iPhone' 'Samsung SM-G935F' 'HTC One' 'LG-$2'\n",
            " 'Samsung SM-A202F' 'XT1032' 'COL-L29' 'Samsung SM-N960U1'\n",
            " 'Samsung SM-A715F' 'Samsung SM-G930F' 'I3312' 'Samsung SM-G950F'\n",
            " 'FIG-LX1' 'Samsung SM-G920F' 'MRD-LX1' 'Samsung SM-N950F' 'Moto $2'\n",
            " 'Samsung SM-G970F' 'Samsung GT-I9505' 'Samsung SM-G981B' 'Pixel 3a'\n",
            " 'Samsung SM-J600FN' 'Samsung SM-A105FN' 'OnePlus ONEPLUS A3003' 'POT-LX1'\n",
            " 'Samsung SM-G975F' 'Samsung SM-J330FN' 'Samsung SM-G770F' 'H3311'\n",
            " 'MAR-LX1A' 'HTC One $2' 'Samsung SM-G965F' 'ELE-L09' 'Samsung SM-J415FN'\n",
            " 'Samsung SM-G900F' 'Lenovo A1010a20' 'CLT-L09' 'HTC Desire $2'\n",
            " 'Samsung SM-G980F' 'Samsung SM-G955F' 'Samsung SM-N960F' 'Nexus 5'\n",
            " 'Samsung SM-J260F' 'HTC U11' 'Samsung SM-A405FN' 'Samsung SM-A600FN'\n",
            " 'ANE-LX1' 'VOG-L09' 'Samsung SM-G986B' 'XiaoMi Redmi Note 4' 'ELE-L29'\n",
            " 'Samsung $2' 'Samsung SM-A320FL' 'OnePlus ONEPLUS A5000'\n",
            " 'Samsung SM-A505FN' 'Nokia undefined$2$3' 'Samsung SM-A750FN'\n",
            " 'Samsung SM-A310F' 'Samsung SM-A520F' 'OnePlus ONEPLUS A5010'\n",
            " 'Samsung SM-N975F' 'Pixel 4' 'LYA-L09' 'Samsung SM-G988B' 'VOG-L29'\n",
            " 'Samsung SM-N976B' '5008Y_EEA' 'CLT-L29' 'PRA-LX1' 'Samsung SM-J320FN'\n",
            " 'Samsung SM-J530F' 'Samsung SM-A530F' 'BKL-L09' 'Pixel 3'\n",
            " 'Samsung SM-A515F' 'Nokia$2$3' 'F8331' 'Samsung SM-A300FU'\n",
            " 'Samsung SM-G390F' 'VFD 710' 'XiaoMi Redmi 6' 'Samsung SM-G901F'\n",
            " 'OnePlus ONEPLUS A6003' 'Samsung SM-A500FU' 'Samsung SM-G900V' 'SNE-LX1'\n",
            " 'STF-L09' 'HTC 10' 'Samsung SM-J510FN' 'Samsung SM-J610FN' 'S8'\n",
            " 'XiaoMi Redmi Note 7' 'Samsung SM-G800F' 'EML-L09' 'Samsung SM-N970F'\n",
            " 'Huawei Browser' 'OnePlus ONEPLUS A6013' 'Samsung GT-I8200N'\n",
            " 'Samsung SM-A920F' 'NEM-L51' 'Samsung SM-G570F' 'Samsung SM-G925F'\n",
            " 'VFD 820' 'Asus I01WD' 'HUAWEI $2' 'OnePlus ONEPLUS A6000'\n",
            " 'Samsung SM-J710F' 'Samsung SM-G928F' 'XiaoMi Redmi 8' 'H3113' 'DUB-LX1'\n",
            " 'Pixel 2' 'Samsung GT-I9195' 'WAS-LX1A' 'F5321' 'XiaoMi MI 8 Pro'\n",
            " 'EVA-L09' 'Samsung SM-J730F' 'LYA-L29' 'VFD 500' 'YAL-L21' 'HTC U12+'\n",
            " 'Samsung SM-J330G' 'XiaoMi MI 8' 'Samsung undefined$2' 'G3311' 'G3121'\n",
            " 'DUA-L22' 'Samsung SM-G950U1' 'Samsung SM-G850F' 'Samsung GT-I9505 '\n",
            " 'Samsung SM-A107F' 'BBB100-2' 'VFD 610' 'XiaoMi Redmi 6A' '5099Y'\n",
            " 'Samsung SM-F907B' 'Samsung SM-N9500' 'D5503' 'Samsung SM-G977B'\n",
            " 'Lumia 950' 'Samsung GT-P5210 ' 'COR-L29' 'LDN-L01' 'Samsung SM-J710MN'\n",
            " 'Lenovo A7020a48' 'Samsung SM-G965U1' 'Samsung SM-N910F' 'CUBOT_X18_Plus'\n",
            " 'Samsung SM-A507FN' 'BLA-L09' 'Samsung SM-G900T' 'VTR-L09'\n",
            " 'Samsung SM-J500FN' 'moto e5 play' 'A0001' 'PCT-L29' 'Samsung SM-G925I'\n",
            " 'HTC M10h' 'Vodafone $2' 'Samsung SM-G6100' 'D5803' 'Samsung SM-A505F'\n",
            " 'Samsung SM-G986U1' 'Samsung SM-N9750' 'D6603' 'VFD 700' '6039Y'\n",
            " 'Samsung SM-N920I' 'Samsung SM-G950U' 'XiaoMi Redmi Note 8T'\n",
            " 'Samsung SM-G935U' 'Samsung SM-A105G' 'OnePlus ONE A2003'\n",
            " 'Samsung GT-I9195I' 'C2105' 'ALE-L21' 'Samsung SM-G930L' 'XT1580'\n",
            " 'Samsung SM-G973U' 'XiaoMi Redmi Note 8 Pro' 'Samsung SM-A015M'\n",
            " 'Samsung SM-G388F' 'Samsung SM-N976V' 'VFD 720' 'Samsung SM-G930U'\n",
            " 'EVR-N29' 'XiaoMi Redmi Note 8' 'F3111' 'EML-L29' 'Samsung SM-G610F'\n",
            " 'Samsung SM-A305F' 'Samsung SM-J701F' 'Samsung SM-A510F' 'IMO $2'\n",
            " 'Pixel XL' 'Samsung SM-A415F' 'Samsung SM-A217F' 'Samsung SM-A908B'\n",
            " 'BBF100-1' 'HTC U11 $2' 'E6653' 'Samsung SM-G903F' 'VKY-L09'\n",
            " 'Samsung SM-A207F' 'XiaoMi MI MAX 3' 'F3311' 'Lenovo P2a42'\n",
            " 'Samsung SM-A205G' 'Samsung SM-A605F' 'VF-795' 'VF-895N'\n",
            " 'Samsung SM-A605G' 'D6503' 'Armor_3' 'FRD-L09' 'TA-1033' 'Doro 8030'\n",
            " 'moto e5 plus' 'Samsung SM-J250F' 'Samsung SM-C9000' 'Moto$2'\n",
            " 'Samsung SM-A105F' 'ATU-L11' 'Samsung SM-N770F' 'TA-1020' 'DLI-L22'\n",
            " 'Samsung SM-A805F' 'XiaoMi Redmi Note 6 Pro' 'Samsung SM-G955U'\n",
            " 'Samsung GT-I9300' 'C6903' 'RNE-L21' 'Samsung SM-G361F' 'G3221'\n",
            " 'Samsung SM-G930T' 'Samsung SM-J510GN' 'Samsung SM-A700F' 'CPH1851' 'X13'\n",
            " 'OnePlus ONE E1003' 'Samsung SM-J810F' 'TA-1024' 'OnePlus ONEPLUS A3000'\n",
            " 'XiaoMi Redmi 3S' 'MHA-L09' 'XiaoMi MI 6' 'K7' 'Swift 2 Plus'\n",
            " 'X4_Soul_Infinity_Z' 'Samsung SM-G960U1' 'Wileyfox Swift'\n",
            " 'Samsung SM-J330F' 'PLK-L01' 'Samsung SM-A750GN' 'Samsung SM-G930V'\n",
            " 'XiaoMi Redmi 5 Plus' 'Samsung SM-J610G' 'VCE-L22' 'Samsung SM-G960U'\n",
            " 'Samsung SM-G9730' 'Samsung SM-G955U1' 'XiaoMi Redmi S2'\n",
            " 'Samsung SM-A205F' 'XiaoMi Redmi Note 5']\n",
            "platform_os's unique values are [6 5 7]\n",
            "browser's unique values are ['Chrome Mobile' 'Chrome Mobile WebView' 'Facebook' 'Mobile Safari'\n",
            " 'Chrome Mobile iOS' 'Samsung Internet' 'Mobile Safari UI/WKWebView'\n",
            " 'Chrome' 'Opera Mini' 'Edge Mobile' 'Android' 'Pinterest' 'Opera Mobile'\n",
            " 'Firefox Mobile' 'Puffin']\n",
            "yes's unique values are [0 1]\n",
            "no's unique values are [0 1]\n"
          ],
          "name": "stdout"
        }
      ]
    },
    {
      "cell_type": "code",
      "metadata": {
        "colab": {
          "base_uri": "https://localhost:8080/"
        },
        "id": "KHWSv25Llya7",
        "outputId": "b1383fe5-6ec6-46a0-f2d8-7498a8a347c7"
      },
      "source": [
        "df['experiment'].value_counts()"
      ],
      "execution_count": 5,
      "outputs": [
        {
          "output_type": "execute_result",
          "data": {
            "text/plain": [
              "control    4071\n",
              "exposed    4006\n",
              "Name: experiment, dtype: int64"
            ]
          },
          "metadata": {
            "tags": []
          },
          "execution_count": 5
        }
      ]
    },
    {
      "cell_type": "code",
      "metadata": {
        "colab": {
          "base_uri": "https://localhost:8080/",
          "height": 235
        },
        "id": "U-F-LfEDmRf_",
        "outputId": "e7738cce-2774-4557-efce-69622c86b50d"
      },
      "source": [
        "df.sort_values(by=['date'], key=pd.to_datetime)\n",
        "df.head()"
      ],
      "execution_count": 6,
      "outputs": [
        {
          "output_type": "execute_result",
          "data": {
            "text/html": [
              "<div>\n",
              "<style scoped>\n",
              "    .dataframe tbody tr th:only-of-type {\n",
              "        vertical-align: middle;\n",
              "    }\n",
              "\n",
              "    .dataframe tbody tr th {\n",
              "        vertical-align: top;\n",
              "    }\n",
              "\n",
              "    .dataframe thead th {\n",
              "        text-align: right;\n",
              "    }\n",
              "</style>\n",
              "<table border=\"1\" class=\"dataframe\">\n",
              "  <thead>\n",
              "    <tr style=\"text-align: right;\">\n",
              "      <th></th>\n",
              "      <th>experiment</th>\n",
              "      <th>date</th>\n",
              "      <th>hour</th>\n",
              "      <th>device_make</th>\n",
              "      <th>platform_os</th>\n",
              "      <th>browser</th>\n",
              "      <th>yes</th>\n",
              "      <th>no</th>\n",
              "    </tr>\n",
              "    <tr>\n",
              "      <th>auction_id</th>\n",
              "      <th></th>\n",
              "      <th></th>\n",
              "      <th></th>\n",
              "      <th></th>\n",
              "      <th></th>\n",
              "      <th></th>\n",
              "      <th></th>\n",
              "      <th></th>\n",
              "    </tr>\n",
              "  </thead>\n",
              "  <tbody>\n",
              "    <tr>\n",
              "      <th>0008ef63-77a7-448b-bd1e-075f42c55e39</th>\n",
              "      <td>exposed</td>\n",
              "      <td>2020-07-10</td>\n",
              "      <td>8</td>\n",
              "      <td>Generic Smartphone</td>\n",
              "      <td>6</td>\n",
              "      <td>Chrome Mobile</td>\n",
              "      <td>0</td>\n",
              "      <td>0</td>\n",
              "    </tr>\n",
              "    <tr>\n",
              "      <th>000eabc5-17ce-4137-8efe-44734d914446</th>\n",
              "      <td>exposed</td>\n",
              "      <td>2020-07-07</td>\n",
              "      <td>10</td>\n",
              "      <td>Generic Smartphone</td>\n",
              "      <td>6</td>\n",
              "      <td>Chrome Mobile</td>\n",
              "      <td>0</td>\n",
              "      <td>0</td>\n",
              "    </tr>\n",
              "    <tr>\n",
              "      <th>0016d14a-ae18-4a02-a204-6ba53b52f2ed</th>\n",
              "      <td>exposed</td>\n",
              "      <td>2020-07-05</td>\n",
              "      <td>2</td>\n",
              "      <td>E5823</td>\n",
              "      <td>6</td>\n",
              "      <td>Chrome Mobile WebView</td>\n",
              "      <td>0</td>\n",
              "      <td>1</td>\n",
              "    </tr>\n",
              "    <tr>\n",
              "      <th>00187412-2932-4542-a8ef-3633901c98d9</th>\n",
              "      <td>control</td>\n",
              "      <td>2020-07-03</td>\n",
              "      <td>15</td>\n",
              "      <td>Samsung SM-A705FN</td>\n",
              "      <td>6</td>\n",
              "      <td>Facebook</td>\n",
              "      <td>0</td>\n",
              "      <td>0</td>\n",
              "    </tr>\n",
              "    <tr>\n",
              "      <th>001a7785-d3fe-4e11-a344-c8735acacc2c</th>\n",
              "      <td>control</td>\n",
              "      <td>2020-07-03</td>\n",
              "      <td>15</td>\n",
              "      <td>Generic Smartphone</td>\n",
              "      <td>6</td>\n",
              "      <td>Chrome Mobile</td>\n",
              "      <td>0</td>\n",
              "      <td>0</td>\n",
              "    </tr>\n",
              "  </tbody>\n",
              "</table>\n",
              "</div>"
            ],
            "text/plain": [
              "                                     experiment        date  ...  yes no\n",
              "auction_id                                                   ...        \n",
              "0008ef63-77a7-448b-bd1e-075f42c55e39    exposed  2020-07-10  ...    0  0\n",
              "000eabc5-17ce-4137-8efe-44734d914446    exposed  2020-07-07  ...    0  0\n",
              "0016d14a-ae18-4a02-a204-6ba53b52f2ed    exposed  2020-07-05  ...    0  1\n",
              "00187412-2932-4542-a8ef-3633901c98d9    control  2020-07-03  ...    0  0\n",
              "001a7785-d3fe-4e11-a344-c8735acacc2c    control  2020-07-03  ...    0  0\n",
              "\n",
              "[5 rows x 8 columns]"
            ]
          },
          "metadata": {
            "tags": []
          },
          "execution_count": 6
        }
      ]
    },
    {
      "cell_type": "code",
      "metadata": {
        "id": "K3V3fZW_FfjZ"
      },
      "source": [
        "exposure_grp = df.groupby('experiment')"
      ],
      "execution_count": 7,
      "outputs": []
    },
    {
      "cell_type": "code",
      "metadata": {
        "colab": {
          "base_uri": "https://localhost:8080/",
          "height": 450
        },
        "id": "QjwYQQs3texM",
        "outputId": "09b98a49-08e1-4acf-fecb-685bdf1adcc9"
      },
      "source": [
        "exposure_grp.get_group('control')"
      ],
      "execution_count": 8,
      "outputs": [
        {
          "output_type": "execute_result",
          "data": {
            "text/html": [
              "<div>\n",
              "<style scoped>\n",
              "    .dataframe tbody tr th:only-of-type {\n",
              "        vertical-align: middle;\n",
              "    }\n",
              "\n",
              "    .dataframe tbody tr th {\n",
              "        vertical-align: top;\n",
              "    }\n",
              "\n",
              "    .dataframe thead th {\n",
              "        text-align: right;\n",
              "    }\n",
              "</style>\n",
              "<table border=\"1\" class=\"dataframe\">\n",
              "  <thead>\n",
              "    <tr style=\"text-align: right;\">\n",
              "      <th></th>\n",
              "      <th>experiment</th>\n",
              "      <th>date</th>\n",
              "      <th>hour</th>\n",
              "      <th>device_make</th>\n",
              "      <th>platform_os</th>\n",
              "      <th>browser</th>\n",
              "      <th>yes</th>\n",
              "      <th>no</th>\n",
              "    </tr>\n",
              "    <tr>\n",
              "      <th>auction_id</th>\n",
              "      <th></th>\n",
              "      <th></th>\n",
              "      <th></th>\n",
              "      <th></th>\n",
              "      <th></th>\n",
              "      <th></th>\n",
              "      <th></th>\n",
              "      <th></th>\n",
              "    </tr>\n",
              "  </thead>\n",
              "  <tbody>\n",
              "    <tr>\n",
              "      <th>00187412-2932-4542-a8ef-3633901c98d9</th>\n",
              "      <td>control</td>\n",
              "      <td>2020-07-03</td>\n",
              "      <td>15</td>\n",
              "      <td>Samsung SM-A705FN</td>\n",
              "      <td>6</td>\n",
              "      <td>Facebook</td>\n",
              "      <td>0</td>\n",
              "      <td>0</td>\n",
              "    </tr>\n",
              "    <tr>\n",
              "      <th>001a7785-d3fe-4e11-a344-c8735acacc2c</th>\n",
              "      <td>control</td>\n",
              "      <td>2020-07-03</td>\n",
              "      <td>15</td>\n",
              "      <td>Generic Smartphone</td>\n",
              "      <td>6</td>\n",
              "      <td>Chrome Mobile</td>\n",
              "      <td>0</td>\n",
              "      <td>0</td>\n",
              "    </tr>\n",
              "    <tr>\n",
              "      <th>0027ce48-d3c6-4935-bb12-dfb5d5627857</th>\n",
              "      <td>control</td>\n",
              "      <td>2020-07-03</td>\n",
              "      <td>15</td>\n",
              "      <td>Samsung SM-G960F</td>\n",
              "      <td>6</td>\n",
              "      <td>Facebook</td>\n",
              "      <td>0</td>\n",
              "      <td>0</td>\n",
              "    </tr>\n",
              "    <tr>\n",
              "      <th>002e308b-1a07-49d6-8560-0fbcdcd71e4b</th>\n",
              "      <td>control</td>\n",
              "      <td>2020-07-03</td>\n",
              "      <td>15</td>\n",
              "      <td>Generic Smartphone</td>\n",
              "      <td>6</td>\n",
              "      <td>Chrome Mobile</td>\n",
              "      <td>0</td>\n",
              "      <td>0</td>\n",
              "    </tr>\n",
              "    <tr>\n",
              "      <th>00393fb9-ca32-40c0-bfcb-1bd83f319820</th>\n",
              "      <td>control</td>\n",
              "      <td>2020-07-09</td>\n",
              "      <td>5</td>\n",
              "      <td>Samsung SM-G973F</td>\n",
              "      <td>6</td>\n",
              "      <td>Facebook</td>\n",
              "      <td>0</td>\n",
              "      <td>0</td>\n",
              "    </tr>\n",
              "    <tr>\n",
              "      <th>...</th>\n",
              "      <td>...</td>\n",
              "      <td>...</td>\n",
              "      <td>...</td>\n",
              "      <td>...</td>\n",
              "      <td>...</td>\n",
              "      <td>...</td>\n",
              "      <td>...</td>\n",
              "      <td>...</td>\n",
              "    </tr>\n",
              "    <tr>\n",
              "      <th>ffca1153-c182-4f32-9e90-2a6008417497</th>\n",
              "      <td>control</td>\n",
              "      <td>2020-07-10</td>\n",
              "      <td>16</td>\n",
              "      <td>Generic Smartphone</td>\n",
              "      <td>6</td>\n",
              "      <td>Chrome Mobile</td>\n",
              "      <td>0</td>\n",
              "      <td>1</td>\n",
              "    </tr>\n",
              "    <tr>\n",
              "      <th>ffcea781-a6e7-4f98-9d90-f95377270476</th>\n",
              "      <td>control</td>\n",
              "      <td>2020-07-03</td>\n",
              "      <td>15</td>\n",
              "      <td>Samsung SM-N976B</td>\n",
              "      <td>6</td>\n",
              "      <td>Facebook</td>\n",
              "      <td>0</td>\n",
              "      <td>0</td>\n",
              "    </tr>\n",
              "    <tr>\n",
              "      <th>ffea3210-2c3e-426f-a77d-0aa72e73b20f</th>\n",
              "      <td>control</td>\n",
              "      <td>2020-07-03</td>\n",
              "      <td>15</td>\n",
              "      <td>Generic Smartphone</td>\n",
              "      <td>6</td>\n",
              "      <td>Chrome Mobile</td>\n",
              "      <td>0</td>\n",
              "      <td>0</td>\n",
              "    </tr>\n",
              "    <tr>\n",
              "      <th>ffeaa0f1-1d72-4ba9-afb4-314b3b00a7c7</th>\n",
              "      <td>control</td>\n",
              "      <td>2020-07-04</td>\n",
              "      <td>9</td>\n",
              "      <td>Generic Smartphone</td>\n",
              "      <td>6</td>\n",
              "      <td>Chrome Mobile</td>\n",
              "      <td>0</td>\n",
              "      <td>0</td>\n",
              "    </tr>\n",
              "    <tr>\n",
              "      <th>fffbb9ff-568a-41a5-a0c3-6866592f80d8</th>\n",
              "      <td>control</td>\n",
              "      <td>2020-07-10</td>\n",
              "      <td>14</td>\n",
              "      <td>Samsung SM-G960F</td>\n",
              "      <td>6</td>\n",
              "      <td>Facebook</td>\n",
              "      <td>0</td>\n",
              "      <td>0</td>\n",
              "    </tr>\n",
              "  </tbody>\n",
              "</table>\n",
              "<p>4071 rows × 8 columns</p>\n",
              "</div>"
            ],
            "text/plain": [
              "                                     experiment        date  ...  yes no\n",
              "auction_id                                                   ...        \n",
              "00187412-2932-4542-a8ef-3633901c98d9    control  2020-07-03  ...    0  0\n",
              "001a7785-d3fe-4e11-a344-c8735acacc2c    control  2020-07-03  ...    0  0\n",
              "0027ce48-d3c6-4935-bb12-dfb5d5627857    control  2020-07-03  ...    0  0\n",
              "002e308b-1a07-49d6-8560-0fbcdcd71e4b    control  2020-07-03  ...    0  0\n",
              "00393fb9-ca32-40c0-bfcb-1bd83f319820    control  2020-07-09  ...    0  0\n",
              "...                                         ...         ...  ...  ... ..\n",
              "ffca1153-c182-4f32-9e90-2a6008417497    control  2020-07-10  ...    0  1\n",
              "ffcea781-a6e7-4f98-9d90-f95377270476    control  2020-07-03  ...    0  0\n",
              "ffea3210-2c3e-426f-a77d-0aa72e73b20f    control  2020-07-03  ...    0  0\n",
              "ffeaa0f1-1d72-4ba9-afb4-314b3b00a7c7    control  2020-07-04  ...    0  0\n",
              "fffbb9ff-568a-41a5-a0c3-6866592f80d8    control  2020-07-10  ...    0  0\n",
              "\n",
              "[4071 rows x 8 columns]"
            ]
          },
          "metadata": {
            "tags": []
          },
          "execution_count": 8
        }
      ]
    },
    {
      "cell_type": "code",
      "metadata": {
        "colab": {
          "base_uri": "https://localhost:8080/"
        },
        "id": "TgPVyl3ELsdM",
        "outputId": "387976ae-534f-4656-b5e8-77cef6cf47ad"
      },
      "source": [
        "exposure_grp['yes'].value_counts()"
      ],
      "execution_count": 9,
      "outputs": [
        {
          "output_type": "execute_result",
          "data": {
            "text/plain": [
              "experiment  yes\n",
              "control     0      3807\n",
              "            1       264\n",
              "exposed     0      3698\n",
              "            1       308\n",
              "Name: yes, dtype: int64"
            ]
          },
          "metadata": {
            "tags": []
          },
          "execution_count": 9
        }
      ]
    },
    {
      "cell_type": "code",
      "metadata": {
        "id": "xPH86DEuL1Rq",
        "colab": {
          "base_uri": "https://localhost:8080/"
        },
        "outputId": "3464baef-5d96-42b8-ab39-4bce56290af0"
      },
      "source": [
        "exposure_grp['no'].value_counts()"
      ],
      "execution_count": 10,
      "outputs": [
        {
          "output_type": "execute_result",
          "data": {
            "text/plain": [
              "experiment  no\n",
              "control     0     3749\n",
              "            1      322\n",
              "exposed     0     3657\n",
              "            1      349\n",
              "Name: no, dtype: int64"
            ]
          },
          "metadata": {
            "tags": []
          },
          "execution_count": 10
        }
      ]
    },
    {
      "cell_type": "markdown",
      "metadata": {
        "id": "2IVoNpgmhDCR"
      },
      "source": [
        "## Graph of Bernoulli Distribution"
      ]
    },
    {
      "cell_type": "code",
      "metadata": {
        "colab": {
          "base_uri": "https://localhost:8080/",
          "height": 298
        },
        "id": "e0mZLkQahCQP",
        "outputId": "6526afe8-e0b2-4eb5-a962-d74d50ac730c"
      },
      "source": [
        "control_grp_yes = 264\n",
        "control_grp_no = 322\n",
        "import seaborn as sns\n",
        "import matplotlib.pyplot as plt\n",
        "\n",
        "sns.barplot(x= [\"yes\", \"no\"], y=[control_grp_yes,control_grp_no])\n",
        "plt.title('Control group counts')"
      ],
      "execution_count": 14,
      "outputs": [
        {
          "output_type": "execute_result",
          "data": {
            "text/plain": [
              "Text(0.5, 1.0, 'Control group counts')"
            ]
          },
          "metadata": {
            "tags": []
          },
          "execution_count": 14
        },
        {
          "output_type": "display_data",
          "data": {
            "image/png": "[encoded data removed]",
            "text/plain": [
              "<Figure size 432x288 with 1 Axes>"
            ]
          },
          "metadata": {
            "tags": [],
            "needs_background": "light"
          }
        }
      ]
    },
    {
      "cell_type": "code",
      "metadata": {
        "colab": {
          "base_uri": "https://localhost:8080/",
          "height": 298
        },
        "id": "zpJFkGh8iDo3",
        "outputId": "4b33012f-ed1e-494b-ee32-09082860a533"
      },
      "source": [
        "experiment_grp_yes = 308\n",
        "experiment_grp_no = 349\n",
        "sns.barplot(x= [\"yes\", \"no\"], y=[experiment_grp_yes,experiment_grp_no])\n",
        "plt.title('Exposed group counts')"
      ],
      "execution_count": 15,
      "outputs": [
        {
          "output_type": "execute_result",
          "data": {
            "text/plain": [
              "Text(0.5, 1.0, 'Exposed group counts')"
            ]
          },
          "metadata": {
            "tags": []
          },
          "execution_count": 15
        },
        {
          "output_type": "display_data",
          "data": {
            "image/png": "[encoded data removed]",
            "text/plain": [
              "<Figure size 432x288 with 1 Axes>"
            ]
          },
          "metadata": {
            "tags": [],
            "needs_background": "light"
          }
        }
      ]
    },
    {
      "cell_type": "code",
      "metadata": {
        "colab": {
          "base_uri": "https://localhost:8080/"
        },
        "id": "M7gCQxL7Fw7-",
        "outputId": "bee331a6-3248-4cef-e069-f1cdd4c482f7"
      },
      "source": [
        "exposure_grp['yes'].value_counts().index"
      ],
      "execution_count": null,
      "outputs": [
        {
          "output_type": "execute_result",
          "data": {
            "text/plain": [
              "MultiIndex([('control', 0),\n",
              "            ('control', 1),\n",
              "            ('exposed', 0),\n",
              "            ('exposed', 1)],\n",
              "           names=['experiment', 'yes'])"
            ]
          },
          "metadata": {
            "tags": []
          },
          "execution_count": 73
        }
      ]
    },
    {
      "cell_type": "code",
      "metadata": {
        "colab": {
          "base_uri": "https://localhost:8080/"
        },
        "id": "jLTZW8Jnst3-",
        "outputId": "a1f9a985-6af0-4ba6-f398-73adf6e56c1d"
      },
      "source": [
        "exposure_grp['no'].value_counts()"
      ],
      "execution_count": null,
      "outputs": [
        {
          "output_type": "execute_result",
          "data": {
            "text/plain": [
              "experiment  no\n",
              "control     0     3749\n",
              "            1      322\n",
              "exposed     0     3657\n",
              "            1      349\n",
              "Name: no, dtype: int64"
            ]
          },
          "metadata": {
            "tags": []
          },
          "execution_count": 60
        }
      ]
    },
    {
      "cell_type": "code",
      "metadata": {
        "colab": {
          "base_uri": "https://localhost:8080/",
          "height": 296
        },
        "id": "K6ypwdHBs6Ox",
        "outputId": "4fa379be-4c0f-4589-80e5-785869127f4b"
      },
      "source": [
        "sns.barplot(x= exposure_grp['yes'].value_counts().index, y=exposure_grp['yes'].value_counts().values,data=exposure_grp['yes'].value_counts())"
      ],
      "execution_count": null,
      "outputs": [
        {
          "output_type": "execute_result",
          "data": {
            "text/plain": [
              "<matplotlib.axes._subplots.AxesSubplot at 0x7f1a05dd7250>"
            ]
          },
          "metadata": {
            "tags": []
          },
          "execution_count": 61
        },
        {
          "output_type": "display_data",
          "data": {
            "image/png": "[encoded data removed]",
            "text/plain": [
              "<Figure size 432x288 with 1 Axes>"
            ]
          },
          "metadata": {
            "tags": [],
            "needs_background": "light"
          }
        }
      ]
    },
    {
      "cell_type": "code",
      "metadata": {
        "colab": {
          "base_uri": "https://localhost:8080/"
        },
        "id": "Zf7kLvpmt1lC",
        "outputId": "1c49a6ba-0e37-46e3-d55c-898083109039"
      },
      "source": [
        "respondents_series = df.groupby(['experiment','yes', 'no']).size()\n",
        "respondents_series"
      ],
      "execution_count": null,
      "outputs": [
        {
          "output_type": "execute_result",
          "data": {
            "text/plain": [
              "experiment  yes  no\n",
              "control     0    0     3485\n",
              "                 1      322\n",
              "            1    0      264\n",
              "exposed     0    0     3349\n",
              "                 1      349\n",
              "            1    0      308\n",
              "dtype: int64"
            ]
          },
          "metadata": {
            "tags": []
          },
          "execution_count": 76
        }
      ]
    },
    {
      "cell_type": "code",
      "metadata": {
        "colab": {
          "base_uri": "https://localhost:8080/"
        },
        "id": "RasBR_1cv8gF",
        "outputId": "970e3d15-066d-4d8b-fbb7-8c0a9c41017d"
      },
      "source": [
        "df.shape"
      ],
      "execution_count": null,
      "outputs": [
        {
          "output_type": "execute_result",
          "data": {
            "text/plain": [
              "(8077, 8)"
            ]
          },
          "metadata": {
            "tags": []
          },
          "execution_count": 74
        }
      ]
    },
    {
      "cell_type": "markdown",
      "metadata": {
        "id": "e4A-1W-iv-q3"
      },
      "source": [
        "### Out of 8077 respondents 6834 skipped the question 671 answered no and only 572 saw the ad"
      ]
    },
    {
      "cell_type": "code",
      "metadata": {
        "colab": {
          "base_uri": "https://localhost:8080/",
          "height": 265
        },
        "id": "PA3sTLKouEk5",
        "outputId": "a49fde78-e1e0-4e4c-84c8-00d4c58a705a"
      },
      "source": [
        "ax = sns.barplot(x=respondents_series.index, y=respondents_series.values, data=respondents_series)"
      ],
      "execution_count": null,
      "outputs": [
        {
          "output_type": "display_data",
          "data": {
            "image/png": "[encoded data removed]",
            "text/plain": [
              "<Figure size 432x288 with 1 Axes>"
            ]
          },
          "metadata": {
            "tags": [],
            "needs_background": "light"
          }
        }
      ]
    },
    {
      "cell_type": "code",
      "metadata": {
        "colab": {
          "base_uri": "https://localhost:8080/"
        },
        "id": "xNJ8uAXBnrVl",
        "outputId": "530c5b85-3a85-4bb3-c72d-733c16e2e1d9"
      },
      "source": [
        "df['date'] = pd.to_datetime(df['date'])\n",
        "df.dtypes"
      ],
      "execution_count": null,
      "outputs": [
        {
          "output_type": "execute_result",
          "data": {
            "text/plain": [
              "experiment             object\n",
              "date           datetime64[ns]\n",
              "hour                    int64\n",
              "device_make            object\n",
              "platform_os             int64\n",
              "browser                object\n",
              "yes                     int64\n",
              "no                      int64\n",
              "dtype: object"
            ]
          },
          "metadata": {
            "tags": []
          },
          "execution_count": 32
        }
      ]
    },
    {
      "cell_type": "markdown",
      "metadata": {
        "id": "pbwZyLKuEEWn"
      },
      "source": [
        "## Date Based analysis"
      ]
    },
    {
      "cell_type": "code",
      "metadata": {
        "id": "GCYp5xJzn4Qr"
      },
      "source": [
        "df = df.sort_values(by = 'date')"
      ],
      "execution_count": null,
      "outputs": []
    },
    {
      "cell_type": "code",
      "metadata": {
        "id": "GNqWZWwyoDJA"
      },
      "source": [
        "date_series = df['date'].value_counts().sort_index()"
      ],
      "execution_count": null,
      "outputs": []
    },
    {
      "cell_type": "code",
      "metadata": {
        "id": "crFSRTBuoLV8"
      },
      "source": [
        "import matplotlib.pyplot as plt\n",
        "import seaborn as sns"
      ],
      "execution_count": null,
      "outputs": []
    },
    {
      "cell_type": "code",
      "metadata": {
        "colab": {
          "base_uri": "https://localhost:8080/",
          "height": 575
        },
        "id": "GfgmB5QfoxuZ",
        "outputId": "f2aaf569-5573-4965-ae0b-7d7c58399c47"
      },
      "source": [
        "ax = sns.lineplot(x= date_series.index, y = date_series.values)\n",
        "plt.setp(ax.get_xticklabels(), rotation=45)"
      ],
      "execution_count": null,
      "outputs": [
        {
          "output_type": "execute_result",
          "data": {
            "text/plain": [
              "[None,\n",
              " None,\n",
              " None,\n",
              " None,\n",
              " None,\n",
              " None,\n",
              " None,\n",
              " None,\n",
              " None,\n",
              " None,\n",
              " None,\n",
              " None,\n",
              " None,\n",
              " None,\n",
              " None,\n",
              " None]"
            ]
          },
          "metadata": {
            "tags": []
          },
          "execution_count": 47
        },
        {
          "output_type": "display_data",
          "data": {
            "image/png": "[encoded data removed]",
            "text/plain": [
              "<Figure size 432x288 with 1 Axes>"
            ]
          },
          "metadata": {
            "tags": [],
            "needs_background": "light"
          }
        }
      ]
    },
    {
      "cell_type": "code",
      "metadata": {
        "colab": {
          "base_uri": "https://localhost:8080/",
          "height": 300
        },
        "id": "k32Z7IAjpNSh",
        "outputId": "93798422-1ea7-4036-e7d4-9139a80e59b8"
      },
      "source": [
        "platform_series = df['platform_os'].value_counts()\n",
        "sns.barplot(x = platform_series.index, y= platform_series.values, data=platform_series)"
      ],
      "execution_count": null,
      "outputs": [
        {
          "output_type": "execute_result",
          "data": {
            "text/plain": [
              "<matplotlib.axes._subplots.AxesSubplot at 0x7f1a05e7d2d0>"
            ]
          },
          "metadata": {
            "tags": []
          },
          "execution_count": 53
        },
        {
          "output_type": "display_data",
          "data": {
            "image/png": "[encoded data removed]",
            "text/plain": [
              "<Figure size 432x288 with 1 Axes>"
            ]
          },
          "metadata": {
            "tags": [],
            "needs_background": "light"
          }
        }
      ]
    },
    {
      "cell_type": "code",
      "metadata": {
        "id": "PIOp7oldqHQY"
      },
      "source": [
        "browser_series = "
      ],
      "execution_count": null,
      "outputs": []
    },
    {
      "cell_type": "markdown",
      "metadata": {
        "id": "dSim1joQEIKq"
      },
      "source": [
        "## Based on date how much did BIO increase"
      ]
    },
    {
      "cell_type": "code",
      "metadata": {
        "colab": {
          "base_uri": "https://localhost:8080/"
        },
        "id": "TKCRY6JCEcL9",
        "outputId": "9bd4a18a-4b16-402a-b574-7920b807d146"
      },
      "source": [
        "bio_series = df.groupby(['date','experiment','yes', 'no']).size()\n",
        "bio_series"
      ],
      "execution_count": null,
      "outputs": [
        {
          "output_type": "execute_result",
          "data": {
            "text/plain": [
              "date        experiment  yes  no\n",
              "2020-07-03  control     0    0     1312\n",
              "                             1      129\n",
              "                        1    0      104\n",
              "            exposed     0    0      378\n",
              "                             1       49\n",
              "                        1    0       43\n",
              "2020-07-04  control     0    0      358\n",
              "                             1       38\n",
              "                        1    0       30\n",
              "            exposed     0    0      386\n",
              "                             1       45\n",
              "                        1    0       46\n",
              "2020-07-05  control     0    0      319\n",
              "                             1       26\n",
              "                        1    0       17\n",
              "            exposed     0    0      454\n",
              "                             1       39\n",
              "                        1    0       35\n",
              "2020-07-06  control     0    0      170\n",
              "                             1       14\n",
              "                        1    0       12\n",
              "            exposed     0    0      246\n",
              "                             1       25\n",
              "                        1    0       23\n",
              "2020-07-07  control     0    0      186\n",
              "                             1       21\n",
              "                        1    0       16\n",
              "            exposed     0    0      211\n",
              "                             1       24\n",
              "                        1    0       22\n",
              "2020-07-08  control     0    0      426\n",
              "                             1       31\n",
              "                        1    0       27\n",
              "            exposed     0    0      595\n",
              "                             1       61\n",
              "                        1    0       58\n",
              "2020-07-09  control     0    0      415\n",
              "                             1       35\n",
              "                        1    0       30\n",
              "            exposed     0    0      609\n",
              "                             1       64\n",
              "                        1    0       55\n",
              "2020-07-10  control     0    0      299\n",
              "                             1       28\n",
              "                        1    0       28\n",
              "            exposed     0    0      470\n",
              "                             1       42\n",
              "                        1    0       26\n",
              "dtype: int64"
            ]
          },
          "metadata": {
            "tags": []
          },
          "execution_count": 84
        }
      ]
    },
    {
      "cell_type": "code",
      "metadata": {
        "colab": {
          "base_uri": "https://localhost:8080/"
        },
        "id": "4GOjspRwG_rJ",
        "outputId": "a2359181-7ee9-48e2-93fa-c7426ace44a0"
      },
      "source": [
        "for date, new_df in bio_series.groupby(level=0):\n",
        "  print(date)\n",
        "  for experiment, new_df in bio_series.groupby(level=1):\n",
        "    print(experiment)\n",
        "    if experiment == \"control\":\n",
        "      control_df = pd.DataFrame(new_df)\n",
        "      control_df['percent'] = control_df.groupby(level=0).transform(lambda x: (x / x.sum()).round(2))\n",
        "      print(control_df)\n",
        "    elif experiment == \"exposed\":\n",
        "      exposed_df = pd.DataFrame(new_df)\n",
        "      exposed_df['percent'] = exposed_df.groupby(level=0).transform(lambda x: (x / x.sum()).round(2))\n",
        "      print(exposed_df)\n",
        "  break"
      ],
      "execution_count": null,
      "outputs": [
        {
          "output_type": "stream",
          "text": [
            "2020-07-03 00:00:00\n",
            "control\n",
            "                                 0  percent\n",
            "date       experiment yes no               \n",
            "2020-07-03 control    0   0   1312     0.85\n",
            "                          1    129     0.08\n",
            "                      1   0    104     0.07\n",
            "2020-07-04 control    0   0    358     0.84\n",
            "                          1     38     0.09\n",
            "                      1   0     30     0.07\n",
            "2020-07-05 control    0   0    319     0.88\n",
            "                          1     26     0.07\n",
            "                      1   0     17     0.05\n",
            "2020-07-06 control    0   0    170     0.87\n",
            "                          1     14     0.07\n",
            "                      1   0     12     0.06\n",
            "2020-07-07 control    0   0    186     0.83\n",
            "                          1     21     0.09\n",
            "                      1   0     16     0.07\n",
            "2020-07-08 control    0   0    426     0.88\n",
            "                          1     31     0.06\n",
            "                      1   0     27     0.06\n",
            "2020-07-09 control    0   0    415     0.86\n",
            "                          1     35     0.07\n",
            "                      1   0     30     0.06\n",
            "2020-07-10 control    0   0    299     0.84\n",
            "                          1     28     0.08\n",
            "                      1   0     28     0.08\n",
            "exposed\n",
            "                                0  percent\n",
            "date       experiment yes no              \n",
            "2020-07-03 exposed    0   0   378     0.80\n",
            "                          1    49     0.10\n",
            "                      1   0    43     0.09\n",
            "2020-07-04 exposed    0   0   386     0.81\n",
            "                          1    45     0.09\n",
            "                      1   0    46     0.10\n",
            "2020-07-05 exposed    0   0   454     0.86\n",
            "                          1    39     0.07\n",
            "                      1   0    35     0.07\n",
            "2020-07-06 exposed    0   0   246     0.84\n",
            "                          1    25     0.09\n",
            "                      1   0    23     0.08\n",
            "2020-07-07 exposed    0   0   211     0.82\n",
            "                          1    24     0.09\n",
            "                      1   0    22     0.09\n",
            "2020-07-08 exposed    0   0   595     0.83\n",
            "                          1    61     0.09\n",
            "                      1   0    58     0.08\n",
            "2020-07-09 exposed    0   0   609     0.84\n",
            "                          1    64     0.09\n",
            "                      1   0    55     0.08\n",
            "2020-07-10 exposed    0   0   470     0.87\n",
            "                          1    42     0.08\n",
            "                      1   0    26     0.05\n"
          ],
          "name": "stdout"
        }
      ]
    },
    {
      "cell_type": "code",
      "metadata": {
        "id": "wBXKLdvsw5nX"
      },
      "source": [
        "def unstack_df(df):\n",
        "  unstacked_df = df.unstack(level=[2,3])\n",
        "  unstacked_df = unstacked_df.reset_index(level=1, drop=True)\n",
        "  return unstacked_df"
      ],
      "execution_count": null,
      "outputs": []
    },
    {
      "cell_type": "code",
      "metadata": {
        "id": "zWScY7i_TQMs"
      },
      "source": [
        "control_df = unstack_df(control_df)\n",
        "exposed_df = unstack_df(exposed_df)"
      ],
      "execution_count": null,
      "outputs": []
    },
    {
      "cell_type": "code",
      "metadata": {
        "colab": {
          "base_uri": "https://localhost:8080/",
          "height": 297
        },
        "id": "MBnu-DpnV0Ck",
        "outputId": "8cf3aeda-4178-4fbd-81a4-5f13bedea05c"
      },
      "source": [
        "control_df.head()"
      ],
      "execution_count": null,
      "outputs": [
        {
          "output_type": "execute_result",
          "data": {
            "text/html": [
              "<div>\n",
              "<style scoped>\n",
              "    .dataframe tbody tr th:only-of-type {\n",
              "        vertical-align: middle;\n",
              "    }\n",
              "\n",
              "    .dataframe tbody tr th {\n",
              "        vertical-align: top;\n",
              "    }\n",
              "\n",
              "    .dataframe thead tr th {\n",
              "        text-align: left;\n",
              "    }\n",
              "\n",
              "    .dataframe thead tr:last-of-type th {\n",
              "        text-align: right;\n",
              "    }\n",
              "</style>\n",
              "<table border=\"1\" class=\"dataframe\">\n",
              "  <thead>\n",
              "    <tr>\n",
              "      <th></th>\n",
              "      <th colspan=\"3\" halign=\"left\">0</th>\n",
              "      <th colspan=\"3\" halign=\"left\">percent</th>\n",
              "    </tr>\n",
              "    <tr>\n",
              "      <th>yes</th>\n",
              "      <th colspan=\"2\" halign=\"left\">0</th>\n",
              "      <th>1</th>\n",
              "      <th colspan=\"2\" halign=\"left\">0</th>\n",
              "      <th>1</th>\n",
              "    </tr>\n",
              "    <tr>\n",
              "      <th>no</th>\n",
              "      <th>0</th>\n",
              "      <th>1</th>\n",
              "      <th>0</th>\n",
              "      <th>0</th>\n",
              "      <th>1</th>\n",
              "      <th>0</th>\n",
              "    </tr>\n",
              "    <tr>\n",
              "      <th>date</th>\n",
              "      <th></th>\n",
              "      <th></th>\n",
              "      <th></th>\n",
              "      <th></th>\n",
              "      <th></th>\n",
              "      <th></th>\n",
              "    </tr>\n",
              "  </thead>\n",
              "  <tbody>\n",
              "    <tr>\n",
              "      <th>2020-07-03</th>\n",
              "      <td>1312</td>\n",
              "      <td>129</td>\n",
              "      <td>104</td>\n",
              "      <td>0.85</td>\n",
              "      <td>0.08</td>\n",
              "      <td>0.07</td>\n",
              "    </tr>\n",
              "    <tr>\n",
              "      <th>2020-07-04</th>\n",
              "      <td>358</td>\n",
              "      <td>38</td>\n",
              "      <td>30</td>\n",
              "      <td>0.84</td>\n",
              "      <td>0.09</td>\n",
              "      <td>0.07</td>\n",
              "    </tr>\n",
              "    <tr>\n",
              "      <th>2020-07-05</th>\n",
              "      <td>319</td>\n",
              "      <td>26</td>\n",
              "      <td>17</td>\n",
              "      <td>0.88</td>\n",
              "      <td>0.07</td>\n",
              "      <td>0.05</td>\n",
              "    </tr>\n",
              "    <tr>\n",
              "      <th>2020-07-06</th>\n",
              "      <td>170</td>\n",
              "      <td>14</td>\n",
              "      <td>12</td>\n",
              "      <td>0.87</td>\n",
              "      <td>0.07</td>\n",
              "      <td>0.06</td>\n",
              "    </tr>\n",
              "    <tr>\n",
              "      <th>2020-07-07</th>\n",
              "      <td>186</td>\n",
              "      <td>21</td>\n",
              "      <td>16</td>\n",
              "      <td>0.83</td>\n",
              "      <td>0.09</td>\n",
              "      <td>0.07</td>\n",
              "    </tr>\n",
              "  </tbody>\n",
              "</table>\n",
              "</div>"
            ],
            "text/plain": [
              "               0           percent            \n",
              "yes            0         1       0           1\n",
              "no             0    1    0       0     1     0\n",
              "date                                          \n",
              "2020-07-03  1312  129  104    0.85  0.08  0.07\n",
              "2020-07-04   358   38   30    0.84  0.09  0.07\n",
              "2020-07-05   319   26   17    0.88  0.07  0.05\n",
              "2020-07-06   170   14   12    0.87  0.07  0.06\n",
              "2020-07-07   186   21   16    0.83  0.09  0.07"
            ]
          },
          "metadata": {
            "tags": []
          },
          "execution_count": 210
        }
      ]
    },
    {
      "cell_type": "code",
      "metadata": {
        "id": "SBT6X7uYW1cY"
      },
      "source": [
        "# unstacked_df.columns = unstacked_df.columns.droplevel()\n",
        "# df.columns = df.columns.droplevel()\n",
        "control_df.columns = control_df.columns.droplevel(2)\n",
        "exposed_df.columns = exposed_df.columns.droplevel(2)"
      ],
      "execution_count": null,
      "outputs": []
    },
    {
      "cell_type": "code",
      "metadata": {
        "colab": {
          "base_uri": "https://localhost:8080/",
          "height": 328
        },
        "id": "Q43lh3BLyIq0",
        "outputId": "2125374d-cf13-4128-8f75-611a19046395"
      },
      "source": [
        "control_df"
      ],
      "execution_count": null,
      "outputs": [
        {
          "output_type": "execute_result",
          "data": {
            "text/html": [
              "<div>\n",
              "<style scoped>\n",
              "    .dataframe tbody tr th:only-of-type {\n",
              "        vertical-align: middle;\n",
              "    }\n",
              "\n",
              "    .dataframe tbody tr th {\n",
              "        vertical-align: top;\n",
              "    }\n",
              "\n",
              "    .dataframe thead th {\n",
              "        text-align: right;\n",
              "    }\n",
              "</style>\n",
              "<table border=\"1\" class=\"dataframe\">\n",
              "  <thead>\n",
              "    <tr style=\"text-align: right;\">\n",
              "      <th>no</th>\n",
              "      <th>0</th>\n",
              "      <th>1</th>\n",
              "      <th>0</th>\n",
              "      <th>0</th>\n",
              "      <th>1</th>\n",
              "      <th>0</th>\n",
              "    </tr>\n",
              "    <tr>\n",
              "      <th>date</th>\n",
              "      <th></th>\n",
              "      <th></th>\n",
              "      <th></th>\n",
              "      <th></th>\n",
              "      <th></th>\n",
              "      <th></th>\n",
              "    </tr>\n",
              "  </thead>\n",
              "  <tbody>\n",
              "    <tr>\n",
              "      <th>2020-07-03</th>\n",
              "      <td>1312</td>\n",
              "      <td>129</td>\n",
              "      <td>104</td>\n",
              "      <td>0.85</td>\n",
              "      <td>0.08</td>\n",
              "      <td>0.07</td>\n",
              "    </tr>\n",
              "    <tr>\n",
              "      <th>2020-07-04</th>\n",
              "      <td>358</td>\n",
              "      <td>38</td>\n",
              "      <td>30</td>\n",
              "      <td>0.84</td>\n",
              "      <td>0.09</td>\n",
              "      <td>0.07</td>\n",
              "    </tr>\n",
              "    <tr>\n",
              "      <th>2020-07-05</th>\n",
              "      <td>319</td>\n",
              "      <td>26</td>\n",
              "      <td>17</td>\n",
              "      <td>0.88</td>\n",
              "      <td>0.07</td>\n",
              "      <td>0.05</td>\n",
              "    </tr>\n",
              "    <tr>\n",
              "      <th>2020-07-06</th>\n",
              "      <td>170</td>\n",
              "      <td>14</td>\n",
              "      <td>12</td>\n",
              "      <td>0.87</td>\n",
              "      <td>0.07</td>\n",
              "      <td>0.06</td>\n",
              "    </tr>\n",
              "    <tr>\n",
              "      <th>2020-07-07</th>\n",
              "      <td>186</td>\n",
              "      <td>21</td>\n",
              "      <td>16</td>\n",
              "      <td>0.83</td>\n",
              "      <td>0.09</td>\n",
              "      <td>0.07</td>\n",
              "    </tr>\n",
              "    <tr>\n",
              "      <th>2020-07-08</th>\n",
              "      <td>426</td>\n",
              "      <td>31</td>\n",
              "      <td>27</td>\n",
              "      <td>0.88</td>\n",
              "      <td>0.06</td>\n",
              "      <td>0.06</td>\n",
              "    </tr>\n",
              "    <tr>\n",
              "      <th>2020-07-09</th>\n",
              "      <td>415</td>\n",
              "      <td>35</td>\n",
              "      <td>30</td>\n",
              "      <td>0.86</td>\n",
              "      <td>0.07</td>\n",
              "      <td>0.06</td>\n",
              "    </tr>\n",
              "    <tr>\n",
              "      <th>2020-07-10</th>\n",
              "      <td>299</td>\n",
              "      <td>28</td>\n",
              "      <td>28</td>\n",
              "      <td>0.84</td>\n",
              "      <td>0.08</td>\n",
              "      <td>0.08</td>\n",
              "    </tr>\n",
              "  </tbody>\n",
              "</table>\n",
              "</div>"
            ],
            "text/plain": [
              "no             0    1    0     0     1     0\n",
              "date                                        \n",
              "2020-07-03  1312  129  104  0.85  0.08  0.07\n",
              "2020-07-04   358   38   30  0.84  0.09  0.07\n",
              "2020-07-05   319   26   17  0.88  0.07  0.05\n",
              "2020-07-06   170   14   12  0.87  0.07  0.06\n",
              "2020-07-07   186   21   16  0.83  0.09  0.07\n",
              "2020-07-08   426   31   27  0.88  0.06  0.06\n",
              "2020-07-09   415   35   30  0.86  0.07  0.06\n",
              "2020-07-10   299   28   28  0.84  0.08  0.08"
            ]
          },
          "metadata": {
            "tags": []
          },
          "execution_count": 214
        }
      ]
    },
    {
      "cell_type": "code",
      "metadata": {
        "id": "EZ7BhcgCWhJw"
      },
      "source": [
        "control_df.columns = [\"Control:Original:00\",\"Original:01\",\"Original:10\",\"Percent:00\",\"Percent:01\",\"Percent:10\"]\n",
        "exposed_df.columns = [\"Original:00\",\"Original:01\",\"Original:10\",\"Percent:00\",\"Percent:01\",\"Percent:10\"]"
      ],
      "execution_count": null,
      "outputs": []
    },
    {
      "cell_type": "code",
      "metadata": {
        "colab": {
          "base_uri": "https://localhost:8080/",
          "height": 328
        },
        "id": "s4R83Xzx2rju",
        "outputId": "b8a01743-f004-4179-9a95-3b82baef954c"
      },
      "source": [
        "merged_df = pd.concat([control_df[[\"Control:Original:00\",\"Original:01\",\"Original:10\"]] , exposed_df[[\"Original:00\",\"Original:01\",\"Original:10\"]]],axis=1)\n",
        "merged_df"
      ],
      "execution_count": null,
      "outputs": [
        {
          "output_type": "execute_result",
          "data": {
            "text/html": [
              "<div>\n",
              "<style scoped>\n",
              "    .dataframe tbody tr th:only-of-type {\n",
              "        vertical-align: middle;\n",
              "    }\n",
              "\n",
              "    .dataframe tbody tr th {\n",
              "        vertical-align: top;\n",
              "    }\n",
              "\n",
              "    .dataframe thead th {\n",
              "        text-align: right;\n",
              "    }\n",
              "</style>\n",
              "<table border=\"1\" class=\"dataframe\">\n",
              "  <thead>\n",
              "    <tr style=\"text-align: right;\">\n",
              "      <th></th>\n",
              "      <th>Control:Original:00</th>\n",
              "      <th>Original:01</th>\n",
              "      <th>Original:10</th>\n",
              "      <th>Original:00</th>\n",
              "      <th>Original:01</th>\n",
              "      <th>Original:10</th>\n",
              "    </tr>\n",
              "    <tr>\n",
              "      <th>date</th>\n",
              "      <th></th>\n",
              "      <th></th>\n",
              "      <th></th>\n",
              "      <th></th>\n",
              "      <th></th>\n",
              "      <th></th>\n",
              "    </tr>\n",
              "  </thead>\n",
              "  <tbody>\n",
              "    <tr>\n",
              "      <th>2020-07-03</th>\n",
              "      <td>1312</td>\n",
              "      <td>129</td>\n",
              "      <td>104</td>\n",
              "      <td>378</td>\n",
              "      <td>49</td>\n",
              "      <td>43</td>\n",
              "    </tr>\n",
              "    <tr>\n",
              "      <th>2020-07-04</th>\n",
              "      <td>358</td>\n",
              "      <td>38</td>\n",
              "      <td>30</td>\n",
              "      <td>386</td>\n",
              "      <td>45</td>\n",
              "      <td>46</td>\n",
              "    </tr>\n",
              "    <tr>\n",
              "      <th>2020-07-05</th>\n",
              "      <td>319</td>\n",
              "      <td>26</td>\n",
              "      <td>17</td>\n",
              "      <td>454</td>\n",
              "      <td>39</td>\n",
              "      <td>35</td>\n",
              "    </tr>\n",
              "    <tr>\n",
              "      <th>2020-07-06</th>\n",
              "      <td>170</td>\n",
              "      <td>14</td>\n",
              "      <td>12</td>\n",
              "      <td>246</td>\n",
              "      <td>25</td>\n",
              "      <td>23</td>\n",
              "    </tr>\n",
              "    <tr>\n",
              "      <th>2020-07-07</th>\n",
              "      <td>186</td>\n",
              "      <td>21</td>\n",
              "      <td>16</td>\n",
              "      <td>211</td>\n",
              "      <td>24</td>\n",
              "      <td>22</td>\n",
              "    </tr>\n",
              "    <tr>\n",
              "      <th>2020-07-08</th>\n",
              "      <td>426</td>\n",
              "      <td>31</td>\n",
              "      <td>27</td>\n",
              "      <td>595</td>\n",
              "      <td>61</td>\n",
              "      <td>58</td>\n",
              "    </tr>\n",
              "    <tr>\n",
              "      <th>2020-07-09</th>\n",
              "      <td>415</td>\n",
              "      <td>35</td>\n",
              "      <td>30</td>\n",
              "      <td>609</td>\n",
              "      <td>64</td>\n",
              "      <td>55</td>\n",
              "    </tr>\n",
              "    <tr>\n",
              "      <th>2020-07-10</th>\n",
              "      <td>299</td>\n",
              "      <td>28</td>\n",
              "      <td>28</td>\n",
              "      <td>470</td>\n",
              "      <td>42</td>\n",
              "      <td>26</td>\n",
              "    </tr>\n",
              "  </tbody>\n",
              "</table>\n",
              "</div>"
            ],
            "text/plain": [
              "            Control:Original:00  Original:01  ...  Original:01  Original:10\n",
              "date                                          ...                          \n",
              "2020-07-03                 1312          129  ...           49           43\n",
              "2020-07-04                  358           38  ...           45           46\n",
              "2020-07-05                  319           26  ...           39           35\n",
              "2020-07-06                  170           14  ...           25           23\n",
              "2020-07-07                  186           21  ...           24           22\n",
              "2020-07-08                  426           31  ...           61           58\n",
              "2020-07-09                  415           35  ...           64           55\n",
              "2020-07-10                  299           28  ...           42           26\n",
              "\n",
              "[8 rows x 6 columns]"
            ]
          },
          "metadata": {
            "tags": []
          },
          "execution_count": 239
        }
      ]
    },
    {
      "cell_type": "code",
      "metadata": {
        "colab": {
          "base_uri": "https://localhost:8080/",
          "height": 391
        },
        "id": "7BSWwVdz3TEc",
        "outputId": "4c64f436-0dac-4243-ad0e-73e8db437abd"
      },
      "source": [
        "# sns.barplot(x = date, y = 'Original:00' ,data= merged_df)\n",
        "# control_df[['Percent:00':]].plot.bar()\n",
        "# control_df.iloc[['Percent:00',\t'Percent:01',\t'Percent:10']]\n",
        "ctrl_plt = control_df[['Percent:00',\"Percent:01\",\"Percent:10\"]]\n",
        "ctrl_plt.plot.bar()"
      ],
      "execution_count": null,
      "outputs": [
        {
          "output_type": "execute_result",
          "data": {
            "text/plain": [
              "<matplotlib.axes._subplots.AxesSubplot at 0x7f1a056a29d0>"
            ]
          },
          "metadata": {
            "tags": []
          },
          "execution_count": 257
        },
        {
          "output_type": "display_data",
          "data": {
            "image/png": "[encoded data removed]",
            "text/plain": [
              "<Figure size 432x288 with 1 Axes>"
            ]
          },
          "metadata": {
            "tags": [],
            "needs_background": "light"
          }
        }
      ]
    },
    {
      "cell_type": "code",
      "metadata": {
        "colab": {
          "base_uri": "https://localhost:8080/",
          "height": 391
        },
        "id": "zK1MY-ON8bvJ",
        "outputId": "8d68ada1-fa29-4caf-a244-c56e813cfbcd"
      },
      "source": [
        "exp_plt = exposed_df[['Percent:00',\"Percent:01\",\"Percent:10\"]]\n",
        "exp_plt.plot.bar()"
      ],
      "execution_count": null,
      "outputs": [
        {
          "output_type": "execute_result",
          "data": {
            "text/plain": [
              "<matplotlib.axes._subplots.AxesSubplot at 0x7f1a04b8d990>"
            ]
          },
          "metadata": {
            "tags": []
          },
          "execution_count": 258
        },
        {
          "output_type": "display_data",
          "data": {
            "image/png": "[encoded data removed]",
            "text/plain": [
              "<Figure size 432x288 with 1 Axes>"
            ]
          },
          "metadata": {
            "tags": [],
            "needs_background": "light"
          }
        }
      ]
    },
    {
      "cell_type": "code",
      "metadata": {
        "colab": {
          "base_uri": "https://localhost:8080/",
          "height": 328
        },
        "id": "TMCp28M0x6z2",
        "outputId": "26ef4a84-871d-4969-fbf0-032e8ba7d423"
      },
      "source": [
        "control_df"
      ],
      "execution_count": null,
      "outputs": [
        {
          "output_type": "execute_result",
          "data": {
            "text/html": [
              "<div>\n",
              "<style scoped>\n",
              "    .dataframe tbody tr th:only-of-type {\n",
              "        vertical-align: middle;\n",
              "    }\n",
              "\n",
              "    .dataframe tbody tr th {\n",
              "        vertical-align: top;\n",
              "    }\n",
              "\n",
              "    .dataframe thead th {\n",
              "        text-align: right;\n",
              "    }\n",
              "</style>\n",
              "<table border=\"1\" class=\"dataframe\">\n",
              "  <thead>\n",
              "    <tr style=\"text-align: right;\">\n",
              "      <th></th>\n",
              "      <th>Original:00</th>\n",
              "      <th>Original:01</th>\n",
              "      <th>Original:10</th>\n",
              "      <th>Percent:00</th>\n",
              "      <th>Percent:01</th>\n",
              "      <th>Percent:10</th>\n",
              "    </tr>\n",
              "    <tr>\n",
              "      <th>date</th>\n",
              "      <th></th>\n",
              "      <th></th>\n",
              "      <th></th>\n",
              "      <th></th>\n",
              "      <th></th>\n",
              "      <th></th>\n",
              "    </tr>\n",
              "  </thead>\n",
              "  <tbody>\n",
              "    <tr>\n",
              "      <th>2020-07-03</th>\n",
              "      <td>1312</td>\n",
              "      <td>129</td>\n",
              "      <td>104</td>\n",
              "      <td>0.85</td>\n",
              "      <td>0.08</td>\n",
              "      <td>0.07</td>\n",
              "    </tr>\n",
              "    <tr>\n",
              "      <th>2020-07-04</th>\n",
              "      <td>358</td>\n",
              "      <td>38</td>\n",
              "      <td>30</td>\n",
              "      <td>0.84</td>\n",
              "      <td>0.09</td>\n",
              "      <td>0.07</td>\n",
              "    </tr>\n",
              "    <tr>\n",
              "      <th>2020-07-05</th>\n",
              "      <td>319</td>\n",
              "      <td>26</td>\n",
              "      <td>17</td>\n",
              "      <td>0.88</td>\n",
              "      <td>0.07</td>\n",
              "      <td>0.05</td>\n",
              "    </tr>\n",
              "    <tr>\n",
              "      <th>2020-07-06</th>\n",
              "      <td>170</td>\n",
              "      <td>14</td>\n",
              "      <td>12</td>\n",
              "      <td>0.87</td>\n",
              "      <td>0.07</td>\n",
              "      <td>0.06</td>\n",
              "    </tr>\n",
              "    <tr>\n",
              "      <th>2020-07-07</th>\n",
              "      <td>186</td>\n",
              "      <td>21</td>\n",
              "      <td>16</td>\n",
              "      <td>0.83</td>\n",
              "      <td>0.09</td>\n",
              "      <td>0.07</td>\n",
              "    </tr>\n",
              "    <tr>\n",
              "      <th>2020-07-08</th>\n",
              "      <td>426</td>\n",
              "      <td>31</td>\n",
              "      <td>27</td>\n",
              "      <td>0.88</td>\n",
              "      <td>0.06</td>\n",
              "      <td>0.06</td>\n",
              "    </tr>\n",
              "    <tr>\n",
              "      <th>2020-07-09</th>\n",
              "      <td>415</td>\n",
              "      <td>35</td>\n",
              "      <td>30</td>\n",
              "      <td>0.86</td>\n",
              "      <td>0.07</td>\n",
              "      <td>0.06</td>\n",
              "    </tr>\n",
              "    <tr>\n",
              "      <th>2020-07-10</th>\n",
              "      <td>299</td>\n",
              "      <td>28</td>\n",
              "      <td>28</td>\n",
              "      <td>0.84</td>\n",
              "      <td>0.08</td>\n",
              "      <td>0.08</td>\n",
              "    </tr>\n",
              "  </tbody>\n",
              "</table>\n",
              "</div>"
            ],
            "text/plain": [
              "            Original:00  Original:01  ...  Percent:01  Percent:10\n",
              "date                                  ...                        \n",
              "2020-07-03         1312          129  ...        0.08        0.07\n",
              "2020-07-04          358           38  ...        0.09        0.07\n",
              "2020-07-05          319           26  ...        0.07        0.05\n",
              "2020-07-06          170           14  ...        0.07        0.06\n",
              "2020-07-07          186           21  ...        0.09        0.07\n",
              "2020-07-08          426           31  ...        0.06        0.06\n",
              "2020-07-09          415           35  ...        0.07        0.06\n",
              "2020-07-10          299           28  ...        0.08        0.08\n",
              "\n",
              "[8 rows x 6 columns]"
            ]
          },
          "metadata": {
            "tags": []
          },
          "execution_count": 216
        }
      ]
    },
    {
      "cell_type": "code",
      "metadata": {
        "colab": {
          "base_uri": "https://localhost:8080/",
          "height": 328
        },
        "id": "O5ZEI8ZKyanq",
        "outputId": "ff1ad9a1-2b89-40a4-bc57-ccc50988f9f9"
      },
      "source": [
        "exposed_df"
      ],
      "execution_count": null,
      "outputs": [
        {
          "output_type": "execute_result",
          "data": {
            "text/html": [
              "<div>\n",
              "<style scoped>\n",
              "    .dataframe tbody tr th:only-of-type {\n",
              "        vertical-align: middle;\n",
              "    }\n",
              "\n",
              "    .dataframe tbody tr th {\n",
              "        vertical-align: top;\n",
              "    }\n",
              "\n",
              "    .dataframe thead th {\n",
              "        text-align: right;\n",
              "    }\n",
              "</style>\n",
              "<table border=\"1\" class=\"dataframe\">\n",
              "  <thead>\n",
              "    <tr style=\"text-align: right;\">\n",
              "      <th></th>\n",
              "      <th>Original:00</th>\n",
              "      <th>Original:01</th>\n",
              "      <th>Original:10</th>\n",
              "      <th>Percent:00</th>\n",
              "      <th>Percent:01</th>\n",
              "      <th>Percent:10</th>\n",
              "    </tr>\n",
              "    <tr>\n",
              "      <th>date</th>\n",
              "      <th></th>\n",
              "      <th></th>\n",
              "      <th></th>\n",
              "      <th></th>\n",
              "      <th></th>\n",
              "      <th></th>\n",
              "    </tr>\n",
              "  </thead>\n",
              "  <tbody>\n",
              "    <tr>\n",
              "      <th>2020-07-03</th>\n",
              "      <td>378</td>\n",
              "      <td>49</td>\n",
              "      <td>43</td>\n",
              "      <td>0.80</td>\n",
              "      <td>0.10</td>\n",
              "      <td>0.09</td>\n",
              "    </tr>\n",
              "    <tr>\n",
              "      <th>2020-07-04</th>\n",
              "      <td>386</td>\n",
              "      <td>45</td>\n",
              "      <td>46</td>\n",
              "      <td>0.81</td>\n",
              "      <td>0.09</td>\n",
              "      <td>0.10</td>\n",
              "    </tr>\n",
              "    <tr>\n",
              "      <th>2020-07-05</th>\n",
              "      <td>454</td>\n",
              "      <td>39</td>\n",
              "      <td>35</td>\n",
              "      <td>0.86</td>\n",
              "      <td>0.07</td>\n",
              "      <td>0.07</td>\n",
              "    </tr>\n",
              "    <tr>\n",
              "      <th>2020-07-06</th>\n",
              "      <td>246</td>\n",
              "      <td>25</td>\n",
              "      <td>23</td>\n",
              "      <td>0.84</td>\n",
              "      <td>0.09</td>\n",
              "      <td>0.08</td>\n",
              "    </tr>\n",
              "    <tr>\n",
              "      <th>2020-07-07</th>\n",
              "      <td>211</td>\n",
              "      <td>24</td>\n",
              "      <td>22</td>\n",
              "      <td>0.82</td>\n",
              "      <td>0.09</td>\n",
              "      <td>0.09</td>\n",
              "    </tr>\n",
              "    <tr>\n",
              "      <th>2020-07-08</th>\n",
              "      <td>595</td>\n",
              "      <td>61</td>\n",
              "      <td>58</td>\n",
              "      <td>0.83</td>\n",
              "      <td>0.09</td>\n",
              "      <td>0.08</td>\n",
              "    </tr>\n",
              "    <tr>\n",
              "      <th>2020-07-09</th>\n",
              "      <td>609</td>\n",
              "      <td>64</td>\n",
              "      <td>55</td>\n",
              "      <td>0.84</td>\n",
              "      <td>0.09</td>\n",
              "      <td>0.08</td>\n",
              "    </tr>\n",
              "    <tr>\n",
              "      <th>2020-07-10</th>\n",
              "      <td>470</td>\n",
              "      <td>42</td>\n",
              "      <td>26</td>\n",
              "      <td>0.87</td>\n",
              "      <td>0.08</td>\n",
              "      <td>0.05</td>\n",
              "    </tr>\n",
              "  </tbody>\n",
              "</table>\n",
              "</div>"
            ],
            "text/plain": [
              "            Original:00  Original:01  ...  Percent:01  Percent:10\n",
              "date                                  ...                        \n",
              "2020-07-03          378           49  ...        0.10        0.09\n",
              "2020-07-04          386           45  ...        0.09        0.10\n",
              "2020-07-05          454           39  ...        0.07        0.07\n",
              "2020-07-06          246           25  ...        0.09        0.08\n",
              "2020-07-07          211           24  ...        0.09        0.09\n",
              "2020-07-08          595           61  ...        0.09        0.08\n",
              "2020-07-09          609           64  ...        0.09        0.08\n",
              "2020-07-10          470           42  ...        0.08        0.05\n",
              "\n",
              "[8 rows x 6 columns]"
            ]
          },
          "metadata": {
            "tags": []
          },
          "execution_count": 217
        }
      ]
    },
    {
      "cell_type": "code",
      "metadata": {
        "id": "dODQC3pfZYkU"
      },
      "source": [
        "from sklearn.preprocessing import MinMaxScaler\n",
        "scaler = MinMaxScaler()\n",
        "scaled_df = scaler.fit_transform(control_df[[\"Percent:00\",\t\"Percent:01\",\t\"Percent:10\"]])"
      ],
      "execution_count": null,
      "outputs": []
    },
    {
      "cell_type": "code",
      "metadata": {
        "id": "25MBR_xXxzIE"
      },
      "source": [
        "exposed_scaled_df = scaler.fit_transform(exposed_df[[\"Percent:00\",\t\"Percent:01\",\t\"Percent:10\"]])"
      ],
      "execution_count": null,
      "outputs": []
    },
    {
      "cell_type": "code",
      "metadata": {
        "colab": {
          "base_uri": "https://localhost:8080/"
        },
        "id": "npPuP9hMZm5z",
        "outputId": "14202797-0f09-4629-91e6-d21025689d82"
      },
      "source": [
        "scaled_df"
      ],
      "execution_count": null,
      "outputs": [
        {
          "output_type": "execute_result",
          "data": {
            "text/plain": [
              "array([[0.4       , 0.66666667, 0.66666667],\n",
              "       [0.2       , 1.        , 0.66666667],\n",
              "       [1.        , 0.33333333, 0.        ],\n",
              "       [0.8       , 0.33333333, 0.33333333],\n",
              "       [0.        , 1.        , 0.66666667],\n",
              "       [1.        , 0.        , 0.33333333],\n",
              "       [0.6       , 0.33333333, 0.33333333],\n",
              "       [0.2       , 0.66666667, 1.        ]])"
            ]
          },
          "metadata": {
            "tags": []
          },
          "execution_count": 181
        }
      ]
    },
    {
      "cell_type": "code",
      "metadata": {
        "colab": {
          "base_uri": "https://localhost:8080/",
          "height": 607
        },
        "id": "bAyBcZPwOaPD",
        "outputId": "e79a4683-38ab-489b-ffed-6a1480b287fa"
      },
      "source": [
        "ax = sns.lineplot(data=scaled_df)\n",
        "plt.setp(ax.get_xticklabels(), rotation=45)"
      ],
      "execution_count": null,
      "outputs": [
        {
          "output_type": "execute_result",
          "data": {
            "text/plain": [
              "[None,\n",
              " None,\n",
              " None,\n",
              " None,\n",
              " None,\n",
              " None,\n",
              " None,\n",
              " None,\n",
              " None,\n",
              " None,\n",
              " None,\n",
              " None,\n",
              " None,\n",
              " None,\n",
              " None,\n",
              " None,\n",
              " None,\n",
              " None,\n",
              " None,\n",
              " None]"
            ]
          },
          "metadata": {
            "tags": []
          },
          "execution_count": 182
        },
        {
          "output_type": "display_data",
          "data": {
            "image/png": "[encoded data removed]",
            "text/plain": [
              "<Figure size 432x288 with 1 Axes>"
            ]
          },
          "metadata": {
            "tags": [],
            "needs_background": "light"
          }
        }
      ]
    },
    {
      "cell_type": "code",
      "metadata": {
        "colab": {
          "base_uri": "https://localhost:8080/",
          "height": 607
        },
        "id": "pQHf6duDyjd2",
        "outputId": "b60c2e58-5207-4ce2-fea8-2745ff0d3c4d"
      },
      "source": [
        "ax = sns.lineplot(data=exposed_scaled_df)\n",
        "plt.setp(ax.get_xticklabels(), rotation=45)"
      ],
      "execution_count": null,
      "outputs": [
        {
          "output_type": "execute_result",
          "data": {
            "text/plain": [
              "[None,\n",
              " None,\n",
              " None,\n",
              " None,\n",
              " None,\n",
              " None,\n",
              " None,\n",
              " None,\n",
              " None,\n",
              " None,\n",
              " None,\n",
              " None,\n",
              " None,\n",
              " None,\n",
              " None,\n",
              " None,\n",
              " None,\n",
              " None,\n",
              " None,\n",
              " None]"
            ]
          },
          "metadata": {
            "tags": []
          },
          "execution_count": 225
        },
        {
          "output_type": "display_data",
          "data": {
            "image/png": "[encoded data removed]",
            "text/plain": [
              "<Figure size 432x288 with 1 Axes>"
            ]
          },
          "metadata": {
            "tags": [],
            "needs_background": "light"
          }
        }
      ]
    },
    {
      "cell_type": "code",
      "metadata": {
        "id": "7n3QGUcvGO_-"
      },
      "source": [
        "ax = sns.lineplot(x= date_series.index, y = date_series.values)\n",
        "plt.setp(ax.get_xticklabels(), rotation=45)"
      ],
      "execution_count": null,
      "outputs": []
    },
    {
      "cell_type": "code",
      "metadata": {
        "id": "weMDB5UOKL15"
      },
      "source": [
        ""
      ],
      "execution_count": null,
      "outputs": []
    }
  ]
}